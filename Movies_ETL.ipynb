{
 "cells": [
  {
   "cell_type": "code",
   "execution_count": 92,
   "id": "7a32e34a",
   "metadata": {},
   "outputs": [],
   "source": [
    "#import dependencies\n",
    "import pandas as pd\n",
    "import numpy as np\n",
    "import json\n",
    "import re"
   ]
  },
  {
   "cell_type": "code",
   "execution_count": 9,
   "id": "f23d0356",
   "metadata": {},
   "outputs": [],
   "source": [
    "file_dir=\"Data/\""
   ]
  },
  {
   "cell_type": "code",
   "execution_count": 10,
   "id": "25b5b20e",
   "metadata": {},
   "outputs": [],
   "source": [
    "with open(f'{file_dir}wikipedia-movies.json', mode='r') as file:\n",
    "        wiki_movies_raw=json.load(file)"
   ]
  },
  {
   "cell_type": "code",
   "execution_count": 11,
   "id": "8be33d1f",
   "metadata": {},
   "outputs": [
    {
     "data": {
      "text/plain": [
       "7311"
      ]
     },
     "execution_count": 11,
     "metadata": {},
     "output_type": "execute_result"
    }
   ],
   "source": [
    "len(wiki_movies_raw)"
   ]
  },
  {
   "cell_type": "code",
   "execution_count": 19,
   "id": "111746a4",
   "metadata": {},
   "outputs": [],
   "source": [
    "kaggle_metadata=pd.read_csv(f'{file_dir}movies_metadata.csv', low_memory=False)\n",
    "ratings=pd.read_csv(f'{file_dir}ratings.csv')"
   ]
  },
  {
   "cell_type": "code",
   "execution_count": 24,
   "id": "14826fdc",
   "metadata": {},
   "outputs": [
    {
     "data": {
      "text/html": [
       "<div>\n",
       "<style scoped>\n",
       "    .dataframe tbody tr th:only-of-type {\n",
       "        vertical-align: middle;\n",
       "    }\n",
       "\n",
       "    .dataframe tbody tr th {\n",
       "        vertical-align: top;\n",
       "    }\n",
       "\n",
       "    .dataframe thead th {\n",
       "        text-align: right;\n",
       "    }\n",
       "</style>\n",
       "<table border=\"1\" class=\"dataframe\">\n",
       "  <thead>\n",
       "    <tr style=\"text-align: right;\">\n",
       "      <th></th>\n",
       "      <th>adult</th>\n",
       "      <th>belongs_to_collection</th>\n",
       "      <th>budget</th>\n",
       "      <th>genres</th>\n",
       "      <th>homepage</th>\n",
       "      <th>id</th>\n",
       "      <th>imdb_id</th>\n",
       "      <th>original_language</th>\n",
       "      <th>original_title</th>\n",
       "      <th>overview</th>\n",
       "      <th>...</th>\n",
       "      <th>release_date</th>\n",
       "      <th>revenue</th>\n",
       "      <th>runtime</th>\n",
       "      <th>spoken_languages</th>\n",
       "      <th>status</th>\n",
       "      <th>tagline</th>\n",
       "      <th>title</th>\n",
       "      <th>video</th>\n",
       "      <th>vote_average</th>\n",
       "      <th>vote_count</th>\n",
       "    </tr>\n",
       "  </thead>\n",
       "  <tbody>\n",
       "    <tr>\n",
       "      <th>30619</th>\n",
       "      <td>False</td>\n",
       "      <td>NaN</td>\n",
       "      <td>0</td>\n",
       "      <td>[{'id': 18, 'name': 'Drama'}]</td>\n",
       "      <td>NaN</td>\n",
       "      <td>219666</td>\n",
       "      <td>tt2338874</td>\n",
       "      <td>en</td>\n",
       "      <td>Laiškai Sofijai</td>\n",
       "      <td>Based on a true story, this is the love affair...</td>\n",
       "      <td>...</td>\n",
       "      <td>2013-08-28</td>\n",
       "      <td>0.0</td>\n",
       "      <td>0.0</td>\n",
       "      <td>[{'iso_639_1': 'lt', 'name': 'Lietuvi\\x9akai'}...</td>\n",
       "      <td>Released</td>\n",
       "      <td>A Lithuanian Love Affair</td>\n",
       "      <td>Letters To Sofija</td>\n",
       "      <td>False</td>\n",
       "      <td>6.0</td>\n",
       "      <td>2.0</td>\n",
       "    </tr>\n",
       "    <tr>\n",
       "      <th>35340</th>\n",
       "      <td>False</td>\n",
       "      <td>{'id': 185667, 'name': 'The Complete Monterey ...</td>\n",
       "      <td>0</td>\n",
       "      <td>[{'id': 10402, 'name': 'Music'}]</td>\n",
       "      <td>NaN</td>\n",
       "      <td>26028</td>\n",
       "      <td>tt0093312</td>\n",
       "      <td>en</td>\n",
       "      <td>Jimi Plays Monterey</td>\n",
       "      <td>It's no exaggeration to say this might be the ...</td>\n",
       "      <td>...</td>\n",
       "      <td>1986-10-23</td>\n",
       "      <td>0.0</td>\n",
       "      <td>50.0</td>\n",
       "      <td>[{'iso_639_1': 'en', 'name': 'English'}]</td>\n",
       "      <td>Released</td>\n",
       "      <td>Jimi Plays Monterey</td>\n",
       "      <td>Jimi Plays Monterey</td>\n",
       "      <td>False</td>\n",
       "      <td>6.7</td>\n",
       "      <td>7.0</td>\n",
       "    </tr>\n",
       "    <tr>\n",
       "      <th>26972</th>\n",
       "      <td>False</td>\n",
       "      <td>NaN</td>\n",
       "      <td>0</td>\n",
       "      <td>[{'id': 18, 'name': 'Drama'}, {'id': 28, 'name...</td>\n",
       "      <td>NaN</td>\n",
       "      <td>79645</td>\n",
       "      <td>tt0067162</td>\n",
       "      <td>en</td>\n",
       "      <td>The Grissom Gang</td>\n",
       "      <td>The Grissom Gang is a remake of the notorious ...</td>\n",
       "      <td>...</td>\n",
       "      <td>1971-05-28</td>\n",
       "      <td>0.0</td>\n",
       "      <td>128.0</td>\n",
       "      <td>[{'iso_639_1': 'en', 'name': 'English'}]</td>\n",
       "      <td>Released</td>\n",
       "      <td>The psychotic killer, the young heiress...the ...</td>\n",
       "      <td>The Grissom Gang</td>\n",
       "      <td>False</td>\n",
       "      <td>6.9</td>\n",
       "      <td>7.0</td>\n",
       "    </tr>\n",
       "    <tr>\n",
       "      <th>15198</th>\n",
       "      <td>False</td>\n",
       "      <td>{'id': 12077, 'name': \"St. Trinian's Collectio...</td>\n",
       "      <td>0</td>\n",
       "      <td>[{'id': 35, 'name': 'Comedy'}, {'id': 12, 'nam...</td>\n",
       "      <td>NaN</td>\n",
       "      <td>37565</td>\n",
       "      <td>tt1210106</td>\n",
       "      <td>en</td>\n",
       "      <td>St Trinian's 2: The Legend of Fritton's Gold</td>\n",
       "      <td>The girls of St. Trinians are on the hunt for ...</td>\n",
       "      <td>...</td>\n",
       "      <td>2009-12-18</td>\n",
       "      <td>0.0</td>\n",
       "      <td>106.0</td>\n",
       "      <td>[{'iso_639_1': 'en', 'name': 'English'}]</td>\n",
       "      <td>Released</td>\n",
       "      <td>NaN</td>\n",
       "      <td>St Trinian's 2: The Legend of Fritton's Gold</td>\n",
       "      <td>False</td>\n",
       "      <td>5.4</td>\n",
       "      <td>73.0</td>\n",
       "    </tr>\n",
       "    <tr>\n",
       "      <th>6630</th>\n",
       "      <td>False</td>\n",
       "      <td>NaN</td>\n",
       "      <td>118</td>\n",
       "      <td>[{'id': 35, 'name': 'Comedy'}, {'id': 18, 'nam...</td>\n",
       "      <td>http://www.imdb.com/title/tt0078199/</td>\n",
       "      <td>37672</td>\n",
       "      <td>tt0078199</td>\n",
       "      <td>en</td>\n",
       "      <td>Same Time, Next Year</td>\n",
       "      <td>A man and woman meet by chance at a romantic i...</td>\n",
       "      <td>...</td>\n",
       "      <td>1978-04-23</td>\n",
       "      <td>19.0</td>\n",
       "      <td>119.0</td>\n",
       "      <td>[{'iso_639_1': 'en', 'name': 'English'}]</td>\n",
       "      <td>Released</td>\n",
       "      <td>They couldn't have celebrated happier annivers...</td>\n",
       "      <td>Same Time, Next Year</td>\n",
       "      <td>False</td>\n",
       "      <td>6.5</td>\n",
       "      <td>18.0</td>\n",
       "    </tr>\n",
       "  </tbody>\n",
       "</table>\n",
       "<p>5 rows × 24 columns</p>\n",
       "</div>"
      ],
      "text/plain": [
       "       adult                              belongs_to_collection budget  \\\n",
       "30619  False                                                NaN      0   \n",
       "35340  False  {'id': 185667, 'name': 'The Complete Monterey ...      0   \n",
       "26972  False                                                NaN      0   \n",
       "15198  False  {'id': 12077, 'name': \"St. Trinian's Collectio...      0   \n",
       "6630   False                                                NaN    118   \n",
       "\n",
       "                                                  genres  \\\n",
       "30619                      [{'id': 18, 'name': 'Drama'}]   \n",
       "35340                   [{'id': 10402, 'name': 'Music'}]   \n",
       "26972  [{'id': 18, 'name': 'Drama'}, {'id': 28, 'name...   \n",
       "15198  [{'id': 35, 'name': 'Comedy'}, {'id': 12, 'nam...   \n",
       "6630   [{'id': 35, 'name': 'Comedy'}, {'id': 18, 'nam...   \n",
       "\n",
       "                                   homepage      id    imdb_id  \\\n",
       "30619                                   NaN  219666  tt2338874   \n",
       "35340                                   NaN   26028  tt0093312   \n",
       "26972                                   NaN   79645  tt0067162   \n",
       "15198                                   NaN   37565  tt1210106   \n",
       "6630   http://www.imdb.com/title/tt0078199/   37672  tt0078199   \n",
       "\n",
       "      original_language                                original_title  \\\n",
       "30619                en                               Laiškai Sofijai   \n",
       "35340                en                           Jimi Plays Monterey   \n",
       "26972                en                              The Grissom Gang   \n",
       "15198                en  St Trinian's 2: The Legend of Fritton's Gold   \n",
       "6630                 en                          Same Time, Next Year   \n",
       "\n",
       "                                                overview  ... release_date  \\\n",
       "30619  Based on a true story, this is the love affair...  ...   2013-08-28   \n",
       "35340  It's no exaggeration to say this might be the ...  ...   1986-10-23   \n",
       "26972  The Grissom Gang is a remake of the notorious ...  ...   1971-05-28   \n",
       "15198  The girls of St. Trinians are on the hunt for ...  ...   2009-12-18   \n",
       "6630   A man and woman meet by chance at a romantic i...  ...   1978-04-23   \n",
       "\n",
       "      revenue runtime                                   spoken_languages  \\\n",
       "30619     0.0     0.0  [{'iso_639_1': 'lt', 'name': 'Lietuvi\\x9akai'}...   \n",
       "35340     0.0    50.0           [{'iso_639_1': 'en', 'name': 'English'}]   \n",
       "26972     0.0   128.0           [{'iso_639_1': 'en', 'name': 'English'}]   \n",
       "15198     0.0   106.0           [{'iso_639_1': 'en', 'name': 'English'}]   \n",
       "6630     19.0   119.0           [{'iso_639_1': 'en', 'name': 'English'}]   \n",
       "\n",
       "         status                                            tagline  \\\n",
       "30619  Released                           A Lithuanian Love Affair   \n",
       "35340  Released                                Jimi Plays Monterey   \n",
       "26972  Released  The psychotic killer, the young heiress...the ...   \n",
       "15198  Released                                                NaN   \n",
       "6630   Released  They couldn't have celebrated happier annivers...   \n",
       "\n",
       "                                              title  video vote_average  \\\n",
       "30619                             Letters To Sofija  False          6.0   \n",
       "35340                           Jimi Plays Monterey  False          6.7   \n",
       "26972                              The Grissom Gang  False          6.9   \n",
       "15198  St Trinian's 2: The Legend of Fritton's Gold  False          5.4   \n",
       "6630                           Same Time, Next Year  False          6.5   \n",
       "\n",
       "      vote_count  \n",
       "30619        2.0  \n",
       "35340        7.0  \n",
       "26972        7.0  \n",
       "15198       73.0  \n",
       "6630        18.0  \n",
       "\n",
       "[5 rows x 24 columns]"
      ]
     },
     "execution_count": 24,
     "metadata": {},
     "output_type": "execute_result"
    }
   ],
   "source": [
    "kaggle_metadata[kaggle_metadata[\"original_language\"]=='en'].sample(n=5)"
   ]
  },
  {
   "cell_type": "code",
   "execution_count": 36,
   "id": "f2634f8d",
   "metadata": {},
   "outputs": [
    {
     "data": {
      "text/plain": [
       "0"
      ]
     },
     "execution_count": 36,
     "metadata": {},
     "output_type": "execute_result"
    }
   ],
   "source": [
    "wiki_movies_df = pd.DataFrame(wiki_movies_raw)\n",
    "len(wiki_movies)"
   ]
  },
  {
   "cell_type": "code",
   "execution_count": 67,
   "id": "d7c8e77f",
   "metadata": {},
   "outputs": [],
   "source": [
    "wiki_movies = [movie for movie in wiki_movies_raw\n",
    "              if ('Director' in movie or 'Directed by' in movie) \n",
    "                and 'imdb_link' in movie]"
   ]
  },
  {
   "cell_type": "code",
   "execution_count": 68,
   "id": "9c22748b",
   "metadata": {},
   "outputs": [],
   "source": [
    "def clean_movie(movie):\n",
    "    movie = dict(movie) #create a non-destructive copy\n",
    "    alt_titles = {}\n",
    "    # combine alternate titles into one list\n",
    "    for key in ['Also known as','Arabic','Cantonese','Chinese','French',\n",
    "                'Hangul','Hebrew','Hepburn','Japanese','Literally',\n",
    "                'Mandarin','McCune-Reischauer','Original title','Polish',\n",
    "                'Revised Romanization','Romanized','Russian',\n",
    "                'Simplified','Traditional','Yiddish']:\n",
    "        if key in movie:\n",
    "            alt_titles[key] = movie[key]\n",
    "            movie.pop(key)\n",
    "    if len(alt_titles) > 0:\n",
    "        movie['alt_titles'] = alt_titles\n",
    "\n",
    "    # merge column names\n",
    "    def change_column_name(old_name, new_name):\n",
    "        if old_name in movie:\n",
    "            movie[new_name] = movie.pop(old_name)\n",
    "    change_column_name('Adaptation by', 'Writer(s)')\n",
    "    change_column_name('Country of origin', 'Country')\n",
    "    change_column_name('Directed by', 'Director')\n",
    "    change_column_name('Distributed by', 'Distributor')\n",
    "    change_column_name('Edited by', 'Editor(s)')\n",
    "    change_column_name('Length', 'Running time')\n",
    "    change_column_name('Original release', 'Release date')\n",
    "    change_column_name('Music by', 'Composer(s)')\n",
    "    change_column_name('Produced by', 'Producer(s)')\n",
    "    change_column_name('Producer', 'Producer(s)')\n",
    "    change_column_name('Productioncompanies ', 'Production company(s)')\n",
    "    change_column_name('Productioncompany ', 'Production company(s)')\n",
    "    change_column_name('Released', 'Release Date')\n",
    "    change_column_name('Release Date', 'Release date')\n",
    "    change_column_name('Screen story by', 'Writer(s)')\n",
    "    change_column_name('Screenplay by', 'Writer(s)')\n",
    "    change_column_name('Story by', 'Writer(s)')\n",
    "    change_column_name('Theme music composer', 'Composer(s)')\n",
    "    change_column_name('Written by', 'Writer(s)')\n",
    "\n",
    "    return movie"
   ]
  },
  {
   "cell_type": "code",
   "execution_count": 69,
   "id": "8fd3c52c",
   "metadata": {},
   "outputs": [
    {
     "data": {
      "text/plain": [
       "['Animation by',\n",
       " 'Audio format',\n",
       " 'Based on',\n",
       " 'Box office',\n",
       " 'Budget',\n",
       " 'Camera setup',\n",
       " 'Cinematography',\n",
       " 'Color process',\n",
       " 'Composer(s)',\n",
       " 'Country',\n",
       " 'Created by',\n",
       " 'Director',\n",
       " 'Distributor',\n",
       " 'Editor(s)',\n",
       " 'Executive producer(s)',\n",
       " 'Followed by',\n",
       " 'Genre',\n",
       " 'Label',\n",
       " 'Language',\n",
       " 'McCune–Reischauer',\n",
       " 'Narrated by',\n",
       " 'No. of episodes',\n",
       " 'Opening theme',\n",
       " 'Original language(s)',\n",
       " 'Original network',\n",
       " 'Picture format',\n",
       " 'Preceded by',\n",
       " 'Producer(s)',\n",
       " 'Production company(s)',\n",
       " 'Production location(s)',\n",
       " 'Recorded',\n",
       " 'Release date',\n",
       " 'Running time',\n",
       " 'Starring',\n",
       " 'Suggested by',\n",
       " 'Venue',\n",
       " 'Voices of',\n",
       " 'Writer(s)',\n",
       " 'alt_titles',\n",
       " 'imdb_link',\n",
       " 'title',\n",
       " 'url',\n",
       " 'year']"
      ]
     },
     "execution_count": 69,
     "metadata": {},
     "output_type": "execute_result"
    }
   ],
   "source": [
    "clean_movies = [clean_movie(movie) for movie in wiki_movies]\n",
    "wiki_movies_df = pd.DataFrame(clean_movies)\n",
    "sorted(wiki_movies_df.columns.tolist())"
   ]
  },
  {
   "cell_type": "code",
   "execution_count": 70,
   "id": "d7b9fcb8",
   "metadata": {},
   "outputs": [],
   "source": [
    "wiki_movies_df['imdb_id'] = wiki_movies_df['imdb_link'].str.extract(r'(tt\\d{7})')"
   ]
  },
  {
   "cell_type": "code",
   "execution_count": 81,
   "id": "f0c33405",
   "metadata": {},
   "outputs": [
    {
     "data": {
      "text/plain": [
       "[['url', 0],\n",
       " ['year', 0],\n",
       " ['imdb_link', 0],\n",
       " ['title', 1],\n",
       " ['Based on', 4889],\n",
       " ['Starring', 185],\n",
       " ['Narrated by', 6797],\n",
       " ['Cinematography', 700],\n",
       " ['Release date', 32],\n",
       " ['Running time', 140],\n",
       " ['Country', 239],\n",
       " ['Language', 248],\n",
       " ['Budget', 2315],\n",
       " ['Box office', 1563],\n",
       " ['Director', 0],\n",
       " ['Distributor', 362],\n",
       " ['Editor(s)', 551],\n",
       " ['Composer(s)', 520],\n",
       " ['Producer(s)', 203],\n",
       " ['Production company(s)', 1688],\n",
       " ['Writer(s)', 201],\n",
       " ['Genre', 6966],\n",
       " ['Original language(s)', 6918],\n",
       " ['Original network', 6951],\n",
       " ['Executive producer(s)', 6980],\n",
       " ['Production location(s)', 7030],\n",
       " ['Picture format', 7012],\n",
       " ['Audio format', 7016],\n",
       " ['Voices of', 7078],\n",
       " ['Followed by', 7071],\n",
       " ['Created by', 7069],\n",
       " ['Opening theme', 7079],\n",
       " ['No. of episodes', 7076],\n",
       " ['alt_titles', 7058],\n",
       " ['Preceded by', 7070],\n",
       " ['Suggested by', 7079],\n",
       " ['Recorded', 7078],\n",
       " ['Venue', 7079],\n",
       " ['Label', 7078],\n",
       " ['Animation by', 7078],\n",
       " ['Color process', 7079],\n",
       " ['Camera setup', 7079],\n",
       " ['McCune–Reischauer', 7078],\n",
       " ['imdb_id', 0]]"
      ]
     },
     "execution_count": 81,
     "metadata": {},
     "output_type": "execute_result"
    }
   ],
   "source": [
    "[[column,wiki_movies_df[column].isna().sum()] for column in wiki_movies_df]"
   ]
  },
  {
   "cell_type": "code",
   "execution_count": 82,
   "id": "545e0e4c",
   "metadata": {},
   "outputs": [],
   "source": [
    "wiki_columns_to_keep = [column for column in wiki_movies_df.columns if wiki_movies_df[column].isnull().sum() < len(wiki_movies_df) * 0.9]\n",
    "wiki_movies_df = wiki_movies_df[wiki_columns_to_keep]"
   ]
  },
  {
   "cell_type": "code",
   "execution_count": 85,
   "id": "16f94032",
   "metadata": {},
   "outputs": [
    {
     "data": {
      "text/plain": [
       "url                      object\n",
       "year                      int64\n",
       "imdb_link                object\n",
       "title                    object\n",
       "Based on                 object\n",
       "Starring                 object\n",
       "Cinematography           object\n",
       "Release date             object\n",
       "Running time             object\n",
       "Country                  object\n",
       "Language                 object\n",
       "Budget                   object\n",
       "Box office               object\n",
       "Director                 object\n",
       "Distributor              object\n",
       "Editor(s)                object\n",
       "Composer(s)              object\n",
       "Producer(s)              object\n",
       "Production company(s)    object\n",
       "Writer(s)                object\n",
       "imdb_id                  object\n",
       "dtype: object"
      ]
     },
     "execution_count": 85,
     "metadata": {},
     "output_type": "execute_result"
    }
   ],
   "source": [
    "wiki_movies_df.dtypes"
   ]
  },
  {
   "cell_type": "code",
   "execution_count": 86,
   "id": "b5f6b08f",
   "metadata": {},
   "outputs": [],
   "source": [
    "box_office = wiki_movies_df['Box office'].dropna()"
   ]
  },
  {
   "cell_type": "code",
   "execution_count": 91,
   "id": "6230d565",
   "metadata": {},
   "outputs": [
    {
     "data": {
      "text/plain": [
       "0          $21.4 million\n",
       "1           $2.7 million\n",
       "2            $57,718,089\n",
       "3             $7,331,647\n",
       "4       $6,939,946 (USA)\n",
       "              ...       \n",
       "7074       $19.4 million\n",
       "7075       $41.9 million\n",
       "7076       $76.1 million\n",
       "7077       $38.4 million\n",
       "7078        $5.5 million\n",
       "Name: Box office, Length: 5517, dtype: object"
      ]
     },
     "execution_count": 91,
     "metadata": {},
     "output_type": "execute_result"
    }
   ],
   "source": [
    "box_office = box_office.apply(lambda x: ' '.join(x) if type(x) == list else x)\n",
    "box_office"
   ]
  },
  {
   "cell_type": "code",
   "execution_count": 105,
   "id": "2057810a",
   "metadata": {},
   "outputs": [
    {
     "data": {
      "text/plain": [
       "3926"
      ]
     },
     "execution_count": 105,
     "metadata": {},
     "output_type": "execute_result"
    }
   ],
   "source": [
    "form_one = r'\\$\\s*\\d+\\.?\\d*\\s*[mb]illi?on'\n",
    "form_two = r'\\$\\s*\\d{1,3}(?:[,\\.]\\d{3})+(?!\\s[mb]illi?on)'\n",
    "\n",
    "box_office.str.contains(form_one, flags=re.IGNORECASE, na=False).sum()"
   ]
  },
  {
   "cell_type": "code",
   "execution_count": 106,
   "id": "f612591d",
   "metadata": {},
   "outputs": [
    {
     "data": {
      "text/plain": [
       "1574"
      ]
     },
     "execution_count": 106,
     "metadata": {},
     "output_type": "execute_result"
    }
   ],
   "source": [
    "box_office.str.contains(form_two, flags=re.IGNORECASE, na=False).sum()"
   ]
  },
  {
   "cell_type": "code",
   "execution_count": 107,
   "id": "ef912d90",
   "metadata": {},
   "outputs": [],
   "source": [
    "box_office = box_office.str.replace(r'\\$.*[-—–](?![a-z])', '$', regex=True)"
   ]
  },
  {
   "cell_type": "code",
   "execution_count": 112,
   "id": "5cf51b60",
   "metadata": {},
   "outputs": [
    {
     "data": {
      "text/plain": [
       "602                      $5000 (US)\n",
       "1072                     35,254,617\n",
       "1483                     £3 million\n",
       "1868                   ¥1.1 billion\n",
       "2036                            N/A\n",
       "2095                           $309\n",
       "2669    926,423 admissions (France)\n",
       "3635                            TBA\n",
       "3883       CN¥3.650 million (China)\n",
       "4120                     £7,385,434\n",
       "4310                            $30\n",
       "4565        $45.2k (only in Turkey)\n",
       "5451                          £2.56\n",
       "5788                       413 733$\n",
       "6017                        Unknown\n",
       "6373                          $111k\n",
       "6374                           $588\n",
       "6597                 less than $372\n",
       "6847                        8 crore\n",
       "Name: Box office, dtype: object"
      ]
     },
     "execution_count": 112,
     "metadata": {},
     "output_type": "execute_result"
    }
   ],
   "source": [
    "matches_form_one=box_office.str.contains(form_one, flags=re.IGNORECASE, na=False)\n",
    "matches_form_two=box_office.str.contains(form_two, flags=re.IGNORECASE, na=False)\n",
    "box_office[~matches_form_one & ~matches_form_two]"
   ]
  },
  {
   "cell_type": "code",
   "execution_count": 113,
   "id": "ece41413",
   "metadata": {},
   "outputs": [
    {
     "data": {
      "text/html": [
       "<div>\n",
       "<style scoped>\n",
       "    .dataframe tbody tr th:only-of-type {\n",
       "        vertical-align: middle;\n",
       "    }\n",
       "\n",
       "    .dataframe tbody tr th {\n",
       "        vertical-align: top;\n",
       "    }\n",
       "\n",
       "    .dataframe thead th {\n",
       "        text-align: right;\n",
       "    }\n",
       "</style>\n",
       "<table border=\"1\" class=\"dataframe\">\n",
       "  <thead>\n",
       "    <tr style=\"text-align: right;\">\n",
       "      <th></th>\n",
       "      <th>0</th>\n",
       "    </tr>\n",
       "  </thead>\n",
       "  <tbody>\n",
       "    <tr>\n",
       "      <th>0</th>\n",
       "      <td>$21.4 million</td>\n",
       "    </tr>\n",
       "    <tr>\n",
       "      <th>1</th>\n",
       "      <td>$2.7 million</td>\n",
       "    </tr>\n",
       "    <tr>\n",
       "      <th>2</th>\n",
       "      <td>$57,718,089</td>\n",
       "    </tr>\n",
       "    <tr>\n",
       "      <th>3</th>\n",
       "      <td>$7,331,647</td>\n",
       "    </tr>\n",
       "    <tr>\n",
       "      <th>4</th>\n",
       "      <td>$6,939,946</td>\n",
       "    </tr>\n",
       "    <tr>\n",
       "      <th>...</th>\n",
       "      <td>...</td>\n",
       "    </tr>\n",
       "    <tr>\n",
       "      <th>7074</th>\n",
       "      <td>$19.4 million</td>\n",
       "    </tr>\n",
       "    <tr>\n",
       "      <th>7075</th>\n",
       "      <td>$41.9 million</td>\n",
       "    </tr>\n",
       "    <tr>\n",
       "      <th>7076</th>\n",
       "      <td>$76.1 million</td>\n",
       "    </tr>\n",
       "    <tr>\n",
       "      <th>7077</th>\n",
       "      <td>$38.4 million</td>\n",
       "    </tr>\n",
       "    <tr>\n",
       "      <th>7078</th>\n",
       "      <td>$5.5 million</td>\n",
       "    </tr>\n",
       "  </tbody>\n",
       "</table>\n",
       "<p>5517 rows × 1 columns</p>\n",
       "</div>"
      ],
      "text/plain": [
       "                  0\n",
       "0     $21.4 million\n",
       "1      $2.7 million\n",
       "2       $57,718,089\n",
       "3        $7,331,647\n",
       "4        $6,939,946\n",
       "...             ...\n",
       "7074  $19.4 million\n",
       "7075  $41.9 million\n",
       "7076  $76.1 million\n",
       "7077  $38.4 million\n",
       "7078   $5.5 million\n",
       "\n",
       "[5517 rows x 1 columns]"
      ]
     },
     "execution_count": 113,
     "metadata": {},
     "output_type": "execute_result"
    }
   ],
   "source": [
    "box_office.str.extract(f'({form_one}|{form_two})')"
   ]
  },
  {
   "cell_type": "code",
   "execution_count": 123,
   "id": "aabee172",
   "metadata": {},
   "outputs": [],
   "source": [
    "def parse_dollars(s):\n",
    "\n",
    "    # if s is not a string, return NaN\n",
    "    if type(s) != str:\n",
    "        return np.nan\n",
    "    \n",
    "    # if input is of the form $###.# million\n",
    "    if re.match(r'\\$\\s*\\d+\\.?\\d*\\s*milli?on', s, flags=re.IGNORECASE):\n",
    "    \n",
    "        # remove dollar sign and \" million\"\n",
    "        s = re.sub('\\$|\\s*|[a-zA-Z]','',s)\n",
    "        \n",
    "        # convert to float and multiply by a million\n",
    "        value= float(s)*10**6\n",
    "        \n",
    "        # return value\n",
    "        return value\n",
    "        \n",
    "    # if input is of the form $###.# billion\n",
    "    elif re.match(r'\\$\\s*\\d+\\.?\\d*\\s*billi?on', s, flags=re.IGNORECASE):\n",
    "    \n",
    "        # remove dollar sign and \" billion\"\n",
    "        s = re.sub(r'\\$|\\s*|[a-zA-Z]','',s)\n",
    "        \n",
    "        # convert to float and multiply by a billion\n",
    "        value=float(s)*10**9\n",
    "        \n",
    "        # return value\n",
    "        return value\n",
    "        \n",
    "    # if input is of the form $###,###,###\n",
    "    elif re.match(r'\\$\\s*\\d{1,3}(?:[,\\.]\\d{3})+(?!\\s[mb]illi?on)', s, flags=re.IGNORECASE):\n",
    "        \n",
    "        # remove dollar sign and commas\n",
    "        s = re.sub('\\$|,','', s)\n",
    "        \n",
    "        # convert to float\n",
    "        value=float(s)\n",
    "        \n",
    "        # return value\n",
    "        return value\n",
    "        \n",
    "    # otherwise, return NaN\n",
    "    else:\n",
    "        return np.nan\n",
    "    "
   ]
  },
  {
   "cell_type": "code",
   "execution_count": 124,
   "id": "9539e46c",
   "metadata": {},
   "outputs": [
    {
     "data": {
      "text/plain": [
       "0       21400000.0\n",
       "1        2700000.0\n",
       "2       57718089.0\n",
       "3        7331647.0\n",
       "4        6939946.0\n",
       "           ...    \n",
       "7075    41900000.0\n",
       "7076    76100000.0\n",
       "7077    38400000.0\n",
       "7078     5500000.0\n",
       "7079           NaN\n",
       "Name: box_office, Length: 7080, dtype: float64"
      ]
     },
     "execution_count": 124,
     "metadata": {},
     "output_type": "execute_result"
    }
   ],
   "source": [
    "wiki_movies_df['box_office'] = box_office.str.extract(f'({form_one}|{form_two})', flags=re.IGNORECASE)[0].apply(parse_dollars)\n",
    "wiki_movies_df['box_office']"
   ]
  },
  {
   "cell_type": "code",
   "execution_count": 125,
   "id": "7f7e10b7",
   "metadata": {},
   "outputs": [],
   "source": [
    "wiki_movies_df.drop('Box office', axis=1, inplace=True)"
   ]
  },
  {
   "cell_type": "code",
   "execution_count": null,
   "id": "b9f2b37c",
   "metadata": {},
   "outputs": [],
   "source": []
  }
 ],
 "metadata": {
  "kernelspec": {
   "display_name": "PythonData",
   "language": "python",
   "name": "pythondata"
  },
  "language_info": {
   "codemirror_mode": {
    "name": "ipython",
    "version": 3
   },
   "file_extension": ".py",
   "mimetype": "text/x-python",
   "name": "python",
   "nbconvert_exporter": "python",
   "pygments_lexer": "ipython3",
   "version": "3.7.6"
  }
 },
 "nbformat": 4,
 "nbformat_minor": 5
}
